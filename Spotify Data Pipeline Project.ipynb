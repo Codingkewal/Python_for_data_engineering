{
 "cells": [
  {
   "cell_type": "code",
   "execution_count": 1,
   "metadata": {},
   "outputs": [],
   "source": [
    "import spotipy\n",
    "from spotipy.oauth2 import SpotifyClientCredentials\n"
   ]
  },
  {
   "cell_type": "code",
   "execution_count": 2,
   "metadata": {},
   "outputs": [],
   "source": [
    "client_credentials_manager = SpotifyClientCredentials(client_id= \"e8ecb19dac6746d1b840da03074193d1\", client_secret= \"5d6a776414784968aab48ace8d528367\")"
   ]
  },
  {
   "cell_type": "code",
   "execution_count": 3,
   "metadata": {},
   "outputs": [],
   "source": [
    "sp = spotipy.Spotify(client_credentials_manager = client_credentials_manager)"
   ]
  },
  {
   "cell_type": "code",
   "execution_count": 4,
   "metadata": {},
   "outputs": [
    {
     "data": {
      "text/plain": [
       "<spotipy.client.Spotify at 0x1aadbe47110>"
      ]
     },
     "execution_count": 4,
     "metadata": {},
     "output_type": "execute_result"
    }
   ],
   "source": [
    "sp"
   ]
  },
  {
   "cell_type": "code",
   "execution_count": 12,
   "metadata": {},
   "outputs": [],
   "source": [
    "playlist_link = \"https://open.spotify.com/playlist/3bDJLJzvUBxBV4C7mezz6p\""
   ]
  },
  {
   "cell_type": "code",
   "execution_count": 13,
   "metadata": {},
   "outputs": [
    {
     "data": {
      "text/plain": [
       "'3bDJLJzvUBxBV4C7mezz6p'"
      ]
     },
     "execution_count": 13,
     "metadata": {},
     "output_type": "execute_result"
    }
   ],
   "source": [
    "playlist_link.split(\"/\")[-1]"
   ]
  },
  {
   "cell_type": "code",
   "execution_count": 14,
   "metadata": {},
   "outputs": [],
   "source": [
    "playlist_URI = playlist_link.split(\"/\")[-1]"
   ]
  },
  {
   "cell_type": "code",
   "execution_count": 16,
   "metadata": {},
   "outputs": [],
   "source": [
    "data = sp.playlist_tracks(playlist_URI)"
   ]
  },
  {
   "cell_type": "code",
   "execution_count": 24,
   "metadata": {},
   "outputs": [
    {
     "data": {
      "text/plain": [
       "'Raanjhan (From \"Do Patti\")'"
      ]
     },
     "execution_count": 24,
     "metadata": {},
     "output_type": "execute_result"
    }
   ],
   "source": [
    "data['items'][0]['track']['album']['id']\n",
    "data['items'][0]['track']['album']['name']\n"
   ]
  },
  {
   "cell_type": "code",
   "execution_count": 25,
   "metadata": {},
   "outputs": [
    {
     "data": {
      "text/plain": [
       "'2024-10-04'"
      ]
     },
     "execution_count": 25,
     "metadata": {},
     "output_type": "execute_result"
    }
   ],
   "source": [
    "data['items'][0]['track']['album']['release_date']"
   ]
  },
  {
   "cell_type": "code",
   "execution_count": 26,
   "metadata": {},
   "outputs": [
    {
     "data": {
      "text/plain": [
       "'https://open.spotify.com/album/1poClftP5T3zRcqpsxPPfW'"
      ]
     },
     "execution_count": 26,
     "metadata": {},
     "output_type": "execute_result"
    }
   ],
   "source": [
    "data['items'][0]['track']['album']['external_urls']['spotify']"
   ]
  },
  {
   "cell_type": "code",
   "execution_count": 30,
   "metadata": {},
   "outputs": [
    {
     "name": "stdout",
     "output_type": "stream",
     "text": [
      "Raanjhan (From \"Do Patti\")\n",
      "Jhol\n",
      "Mismatched: Season 3 (Soundtrack from the Netflix Series)\n",
      "Finding Her\n",
      "Jhol (Acoustic)\n",
      "Jo Tum Mere Ho\n",
      "Ishq (From \"Lost;Found\")\n",
      "Sahiba\n",
      "Tujhe Kitna Chahne Lage (From \"Kabir Singh\")\n",
      "Afsos\n",
      "Sanam Teri Kasam (Original Motion Picture Soundtrack)\n",
      "Jab We Met\n",
      "Kole Bheja\n",
      "Paro\n",
      "Once Upon Ay Time In Mumbai Dobaara !\n",
      "Sanam Teri Kasam (Original Motion Picture Soundtrack)\n",
      "Sitara\n",
      "Bhediya (Original Motion Picture Soundtrack)\n",
      "Sajni (From \"Laapataa Ladies\")\n",
      "Do Patti\n",
      "Tum Se (From \"Teri Baaton Mein Aisa Uljha Jiya\")\n",
      "Satranga (From \"ANIMAL\")\n",
      "Das De\n",
      "Aaj Ki Raat (From \"Stree 2\")\n",
      "Tu Hain Toh Main Hoon (From \"Sky Force\")\n",
      "Kaaton\n",
      "Love Forever With Arijit Singh\n",
      "Glory\n",
      "Ranjheya Ve\n",
      "Sang Rahiyo\n",
      "Dastaan\n",
      "O Saathi (From \"Baaghi 2\")\n",
      "Tainu Khabar Nahi (From \"Munjya\")\n",
      "Om Shanti Om\n",
      "Bachna Ae Haseeno\n",
      "Ektaara\n",
      "Uyi Amma (From \"Azaad\")\n",
      "Love Forever With Arijit Singh\n",
      "Husn\n",
      "Badlapur (Original Motion Picture Soundtrack)\n",
      "Safar\n",
      "Safar Kamaal\n",
      "Stree 2\n",
      "Water\n",
      "Kabir Singh\n",
      "Sanam Teri Kasam (Original Motion Picture Soundtrack)\n",
      "Kaisa Tera Pyaar Ve\n",
      "Yeh Jawaani Hai Deewani\n",
      "Aayi Nai (From \"Stree 2\")\n",
      "The Dirty Picture\n",
      "Happy Bhag Jayegi (Original Motion Picture Soundtrack)\n",
      "Aashiqui 2\n",
      "GAIR\n",
      "Sultan\n",
      "Glory\n",
      "Pehli Dafa\n",
      "MANIAC - Bonus Track [From \"GLORY\"]\n",
      "Baarishein\n",
      "Teri Yaad\n",
      "Once Upon A Time In Mumbaai\n",
      "Best Of Akhil Sachdeva\n",
      "Ramaiya Vastavaiya (Original Motion Picture Soundtrack)\n",
      "Wavy\n",
      "Suniyan Suniyan\n",
      "When I See You\n",
      "Paaro\n",
      "Ajab Prem Ki Ghazab Kahani (Original Motion Picture Soundtrack)\n",
      "Guru (Original Motion Picture Soundtrack)\n",
      "Nanda Devi Express\n",
      "ANIMAL\n",
      "Hulaara\n",
      "Bhaag Milkha Bhaag (Original Motion Picture Soundtrack)\n",
      "Shor in the City (Original Motion Picture Soundtrack)\n",
      "Dekhha Tenu (From \"Mr. And Mrs. Mahi\")\n",
      "Naina (From \"Crew\")\n",
      "Genius (Original Motion Picture Soundtrack)\n",
      "Never Rush\n",
      "Jaana Samjho Na (From \"Bhool Bhulaiyaa 3\")\n",
      "Shershaah (Original Motion Picture Soundtrack) [Deluxe Edition]\n",
      "YRF Top 10 - Falling in Love\n",
      "Akhiyaan Gulaab (From \"Teri Baaton Mein Aisa Uljha Jiya\")\n",
      "O Maahi (From \"Dunki\")\n",
      "My Time\n",
      "Excuses\n",
      "Khoobsurat (From \"Stree 2\")\n",
      "Janiye (from the Netflix Film \"Chor Nikal Ke Bhaga\")\n",
      "Hawayein (From \"Jab Harry Met Sejal\")\n",
      "Yeh Jawaani Hai Deewani\n",
      "Kesariya (From \"Brahmastra\")\n",
      "Table No. 21 (Original Motion Picture Soundtrack)\n",
      "Love Aaj Kal (Original Motion Picture Soundtrack)\n",
      "Kabhi Alvida Naa Kehna (Original Motion Picture Soundtrack)\n",
      "Tere Bina Na Guzara E\n",
      "Kailasa\n",
      "Groove With Arijit Singh\n",
      "Tu hai kahan\n",
      "Agent Vinod\n",
      "Ishq Mein (From \"Nadaaniyan\")\n",
      "Tauba Tauba (From \"Bad Newz\")\n",
      "Best Of Akhil Sachdeva\n"
     ]
    }
   ],
   "source": [
    "for row in data['items']:\n",
    "    album_id = row['track']['album']['id']\n",
    "    album_name = row['track']['album']['name']\n",
    "    album_release_date = row['track']['album']['release_date']\n",
    "    album_total_tracks = row['track']['album']['total_tracks']\n",
    "    album_url = row['track']['album']['external_urls']['spotify']\n",
    "    print(album_name)\n"
   ]
  },
  {
   "cell_type": "code",
   "execution_count": null,
   "metadata": {},
   "outputs": [],
   "source": []
  }
 ],
 "metadata": {
  "kernelspec": {
   "display_name": ".venv",
   "language": "python",
   "name": "python3"
  },
  "language_info": {
   "codemirror_mode": {
    "name": "ipython",
    "version": 3
   },
   "file_extension": ".py",
   "mimetype": "text/x-python",
   "name": "python",
   "nbconvert_exporter": "python",
   "pygments_lexer": "ipython3",
   "version": "3.12.1"
  }
 },
 "nbformat": 4,
 "nbformat_minor": 2
}
