{
 "cells": [
  {
   "cell_type": "markdown",
   "metadata": {},
   "source": [
    "## Data Analysis for Iphone Data"
   ]
  },
  {
   "cell_type": "code",
   "execution_count": 1,
   "metadata": {},
   "outputs": [],
   "source": [
    "#ip install matplotlib"
   ]
  },
  {
   "cell_type": "code",
   "execution_count": 2,
   "metadata": {},
   "outputs": [],
   "source": [
    "#pip install pandas\n",
    "import pandas as pd\n",
    "import numpy as np\n",
    "import matplotlib.pyplot as plt"
   ]
  },
  {
   "cell_type": "code",
   "execution_count": 3,
   "metadata": {},
   "outputs": [],
   "source": [
    "df = pd.read_csv('C:/Users/chava/Projects/Data_Engineering/python_content/course_content_resources/python-for-data-engineering/1. iPhone Data Analysis Project/Data/apple_products.csv')"
   ]
  },
  {
   "cell_type": "code",
   "execution_count": 4,
   "metadata": {},
   "outputs": [
    {
     "data": {
      "text/html": [
       "<div>\n",
       "<style scoped>\n",
       "    .dataframe tbody tr th:only-of-type {\n",
       "        vertical-align: middle;\n",
       "    }\n",
       "\n",
       "    .dataframe tbody tr th {\n",
       "        vertical-align: top;\n",
       "    }\n",
       "\n",
       "    .dataframe thead th {\n",
       "        text-align: right;\n",
       "    }\n",
       "</style>\n",
       "<table border=\"1\" class=\"dataframe\">\n",
       "  <thead>\n",
       "    <tr style=\"text-align: right;\">\n",
       "      <th></th>\n",
       "      <th>Product Name</th>\n",
       "      <th>Product URL</th>\n",
       "      <th>Brand</th>\n",
       "      <th>Sale Price</th>\n",
       "      <th>Mrp</th>\n",
       "      <th>Discount Percentage</th>\n",
       "      <th>Number Of Ratings</th>\n",
       "      <th>Number Of Reviews</th>\n",
       "      <th>Upc</th>\n",
       "      <th>Star Rating</th>\n",
       "      <th>Ram</th>\n",
       "    </tr>\n",
       "  </thead>\n",
       "  <tbody>\n",
       "    <tr>\n",
       "      <th>0</th>\n",
       "      <td>APPLE iPhone 8 Plus (Gold, 64 GB)</td>\n",
       "      <td>https://www.flipkart.com/apple-iphone-8-plus-g...</td>\n",
       "      <td>Apple</td>\n",
       "      <td>49900</td>\n",
       "      <td>49900</td>\n",
       "      <td>0</td>\n",
       "      <td>3431</td>\n",
       "      <td>356</td>\n",
       "      <td>MOBEXRGV7EHHTGUH</td>\n",
       "      <td>4.6</td>\n",
       "      <td>2 GB</td>\n",
       "    </tr>\n",
       "    <tr>\n",
       "      <th>1</th>\n",
       "      <td>APPLE iPhone 8 Plus (Space Grey, 256 GB)</td>\n",
       "      <td>https://www.flipkart.com/apple-iphone-8-plus-s...</td>\n",
       "      <td>Apple</td>\n",
       "      <td>84900</td>\n",
       "      <td>84900</td>\n",
       "      <td>0</td>\n",
       "      <td>3431</td>\n",
       "      <td>356</td>\n",
       "      <td>MOBEXRGVAC6TJT4F</td>\n",
       "      <td>4.6</td>\n",
       "      <td>2 GB</td>\n",
       "    </tr>\n",
       "    <tr>\n",
       "      <th>2</th>\n",
       "      <td>APPLE iPhone 8 Plus (Silver, 256 GB)</td>\n",
       "      <td>https://www.flipkart.com/apple-iphone-8-plus-s...</td>\n",
       "      <td>Apple</td>\n",
       "      <td>84900</td>\n",
       "      <td>84900</td>\n",
       "      <td>0</td>\n",
       "      <td>3431</td>\n",
       "      <td>356</td>\n",
       "      <td>MOBEXRGVGETABXWZ</td>\n",
       "      <td>4.6</td>\n",
       "      <td>2 GB</td>\n",
       "    </tr>\n",
       "    <tr>\n",
       "      <th>3</th>\n",
       "      <td>APPLE iPhone 8 (Silver, 256 GB)</td>\n",
       "      <td>https://www.flipkart.com/apple-iphone-8-silver...</td>\n",
       "      <td>Apple</td>\n",
       "      <td>77000</td>\n",
       "      <td>77000</td>\n",
       "      <td>0</td>\n",
       "      <td>11202</td>\n",
       "      <td>794</td>\n",
       "      <td>MOBEXRGVMZWUHCBA</td>\n",
       "      <td>4.5</td>\n",
       "      <td>2 GB</td>\n",
       "    </tr>\n",
       "    <tr>\n",
       "      <th>4</th>\n",
       "      <td>APPLE iPhone 8 (Gold, 256 GB)</td>\n",
       "      <td>https://www.flipkart.com/apple-iphone-8-gold-2...</td>\n",
       "      <td>Apple</td>\n",
       "      <td>77000</td>\n",
       "      <td>77000</td>\n",
       "      <td>0</td>\n",
       "      <td>11202</td>\n",
       "      <td>794</td>\n",
       "      <td>MOBEXRGVPK7PFEJZ</td>\n",
       "      <td>4.5</td>\n",
       "      <td>2 GB</td>\n",
       "    </tr>\n",
       "  </tbody>\n",
       "</table>\n",
       "</div>"
      ],
      "text/plain": [
       "                               Product Name  \\\n",
       "0         APPLE iPhone 8 Plus (Gold, 64 GB)   \n",
       "1  APPLE iPhone 8 Plus (Space Grey, 256 GB)   \n",
       "2      APPLE iPhone 8 Plus (Silver, 256 GB)   \n",
       "3           APPLE iPhone 8 (Silver, 256 GB)   \n",
       "4             APPLE iPhone 8 (Gold, 256 GB)   \n",
       "\n",
       "                                         Product URL  Brand  Sale Price  \\\n",
       "0  https://www.flipkart.com/apple-iphone-8-plus-g...  Apple       49900   \n",
       "1  https://www.flipkart.com/apple-iphone-8-plus-s...  Apple       84900   \n",
       "2  https://www.flipkart.com/apple-iphone-8-plus-s...  Apple       84900   \n",
       "3  https://www.flipkart.com/apple-iphone-8-silver...  Apple       77000   \n",
       "4  https://www.flipkart.com/apple-iphone-8-gold-2...  Apple       77000   \n",
       "\n",
       "     Mrp  Discount Percentage  Number Of Ratings  Number Of Reviews  \\\n",
       "0  49900                    0               3431                356   \n",
       "1  84900                    0               3431                356   \n",
       "2  84900                    0               3431                356   \n",
       "3  77000                    0              11202                794   \n",
       "4  77000                    0              11202                794   \n",
       "\n",
       "                Upc  Star Rating   Ram  \n",
       "0  MOBEXRGV7EHHTGUH          4.6  2 GB  \n",
       "1  MOBEXRGVAC6TJT4F          4.6  2 GB  \n",
       "2  MOBEXRGVGETABXWZ          4.6  2 GB  \n",
       "3  MOBEXRGVMZWUHCBA          4.5  2 GB  \n",
       "4  MOBEXRGVPK7PFEJZ          4.5  2 GB  "
      ]
     },
     "execution_count": 4,
     "metadata": {},
     "output_type": "execute_result"
    }
   ],
   "source": [
    "df.head()"
   ]
  },
  {
   "cell_type": "code",
   "execution_count": 7,
   "metadata": {},
   "outputs": [
    {
     "data": {
      "text/plain": [
       "149900"
      ]
     },
     "execution_count": 7,
     "metadata": {},
     "output_type": "execute_result"
    }
   ],
   "source": [
    "int(df['Mrp'].max())"
   ]
  },
  {
   "cell_type": "code",
   "execution_count": 9,
   "metadata": {},
   "outputs": [
    {
     "data": {
      "text/plain": [
       "39900"
      ]
     },
     "execution_count": 9,
     "metadata": {},
     "output_type": "execute_result"
    }
   ],
   "source": [
    "int(df['Mrp'].min())"
   ]
  },
  {
   "cell_type": "code",
   "execution_count": 10,
   "metadata": {},
   "outputs": [
    {
     "data": {
      "text/html": [
       "<div>\n",
       "<style scoped>\n",
       "    .dataframe tbody tr th:only-of-type {\n",
       "        vertical-align: middle;\n",
       "    }\n",
       "\n",
       "    .dataframe tbody tr th {\n",
       "        vertical-align: top;\n",
       "    }\n",
       "\n",
       "    .dataframe thead th {\n",
       "        text-align: right;\n",
       "    }\n",
       "</style>\n",
       "<table border=\"1\" class=\"dataframe\">\n",
       "  <thead>\n",
       "    <tr style=\"text-align: right;\">\n",
       "      <th></th>\n",
       "      <th>Product Name</th>\n",
       "      <th>Product URL</th>\n",
       "      <th>Brand</th>\n",
       "      <th>Sale Price</th>\n",
       "      <th>Mrp</th>\n",
       "      <th>Discount Percentage</th>\n",
       "      <th>Number Of Ratings</th>\n",
       "      <th>Number Of Reviews</th>\n",
       "      <th>Upc</th>\n",
       "      <th>Star Rating</th>\n",
       "      <th>Ram</th>\n",
       "    </tr>\n",
       "  </thead>\n",
       "  <tbody>\n",
       "    <tr>\n",
       "      <th>24</th>\n",
       "      <td>APPLE iPhone 12 Pro (Silver, 512 GB)</td>\n",
       "      <td>https://www.flipkart.com/apple-iphone-12-pro-s...</td>\n",
       "      <td>Apple</td>\n",
       "      <td>140900</td>\n",
       "      <td>149900</td>\n",
       "      <td>6</td>\n",
       "      <td>542</td>\n",
       "      <td>42</td>\n",
       "      <td>MOBFWBYZ5UY6ZBVA</td>\n",
       "      <td>4.5</td>\n",
       "      <td>4 GB</td>\n",
       "    </tr>\n",
       "    <tr>\n",
       "      <th>41</th>\n",
       "      <td>APPLE iPhone 12 Pro (Pacific Blue, 512 GB)</td>\n",
       "      <td>https://www.flipkart.com/apple-iphone-12-pro-p...</td>\n",
       "      <td>Apple</td>\n",
       "      <td>140900</td>\n",
       "      <td>149900</td>\n",
       "      <td>6</td>\n",
       "      <td>545</td>\n",
       "      <td>42</td>\n",
       "      <td>MOBFWBYZTHSXKMGW</td>\n",
       "      <td>4.5</td>\n",
       "      <td>4 GB</td>\n",
       "    </tr>\n",
       "  </tbody>\n",
       "</table>\n",
       "</div>"
      ],
      "text/plain": [
       "                                  Product Name  \\\n",
       "24        APPLE iPhone 12 Pro (Silver, 512 GB)   \n",
       "41  APPLE iPhone 12 Pro (Pacific Blue, 512 GB)   \n",
       "\n",
       "                                          Product URL  Brand  Sale Price  \\\n",
       "24  https://www.flipkart.com/apple-iphone-12-pro-s...  Apple      140900   \n",
       "41  https://www.flipkart.com/apple-iphone-12-pro-p...  Apple      140900   \n",
       "\n",
       "       Mrp  Discount Percentage  Number Of Ratings  Number Of Reviews  \\\n",
       "24  149900                    6                542                 42   \n",
       "41  149900                    6                545                 42   \n",
       "\n",
       "                 Upc  Star Rating   Ram  \n",
       "24  MOBFWBYZ5UY6ZBVA          4.5  4 GB  \n",
       "41  MOBFWBYZTHSXKMGW          4.5  4 GB  "
      ]
     },
     "execution_count": 10,
     "metadata": {},
     "output_type": "execute_result"
    }
   ],
   "source": [
    "df[df['Mrp']==149900]"
   ]
  },
  {
   "cell_type": "code",
   "execution_count": 19,
   "metadata": {},
   "outputs": [
    {
     "data": {
      "text/plain": [
       "'IPHONE 8'"
      ]
     },
     "execution_count": 19,
     "metadata": {},
     "output_type": "execute_result"
    }
   ],
   "source": [
    "list(df['Product Name'])[5][6:15].upper().strip() #strip removes the extra space from the string # upper convert all the value of string to upper case"
   ]
  },
  {
   "cell_type": "code",
   "execution_count": 23,
   "metadata": {},
   "outputs": [],
   "source": [
    "# creating a new columns with the iphone name on it\n",
    "df['model name'] = df['Product Name'].str[6:15].str.strip()  # adding .str because it is use with string value and df['product name] is series"
   ]
  },
  {
   "cell_type": "code",
   "execution_count": 24,
   "metadata": {},
   "outputs": [
    {
     "data": {
      "text/html": [
       "<div>\n",
       "<style scoped>\n",
       "    .dataframe tbody tr th:only-of-type {\n",
       "        vertical-align: middle;\n",
       "    }\n",
       "\n",
       "    .dataframe tbody tr th {\n",
       "        vertical-align: top;\n",
       "    }\n",
       "\n",
       "    .dataframe thead th {\n",
       "        text-align: right;\n",
       "    }\n",
       "</style>\n",
       "<table border=\"1\" class=\"dataframe\">\n",
       "  <thead>\n",
       "    <tr style=\"text-align: right;\">\n",
       "      <th></th>\n",
       "      <th>Product Name</th>\n",
       "      <th>Product URL</th>\n",
       "      <th>Brand</th>\n",
       "      <th>Sale Price</th>\n",
       "      <th>Mrp</th>\n",
       "      <th>Discount Percentage</th>\n",
       "      <th>Number Of Ratings</th>\n",
       "      <th>Number Of Reviews</th>\n",
       "      <th>Upc</th>\n",
       "      <th>Star Rating</th>\n",
       "      <th>Ram</th>\n",
       "      <th>model name</th>\n",
       "    </tr>\n",
       "  </thead>\n",
       "  <tbody>\n",
       "    <tr>\n",
       "      <th>0</th>\n",
       "      <td>APPLE iPhone 8 Plus (Gold, 64 GB)</td>\n",
       "      <td>https://www.flipkart.com/apple-iphone-8-plus-g...</td>\n",
       "      <td>Apple</td>\n",
       "      <td>49900</td>\n",
       "      <td>49900</td>\n",
       "      <td>0</td>\n",
       "      <td>3431</td>\n",
       "      <td>356</td>\n",
       "      <td>MOBEXRGV7EHHTGUH</td>\n",
       "      <td>4.6</td>\n",
       "      <td>2 GB</td>\n",
       "      <td>iPhone 8</td>\n",
       "    </tr>\n",
       "    <tr>\n",
       "      <th>1</th>\n",
       "      <td>APPLE iPhone 8 Plus (Space Grey, 256 GB)</td>\n",
       "      <td>https://www.flipkart.com/apple-iphone-8-plus-s...</td>\n",
       "      <td>Apple</td>\n",
       "      <td>84900</td>\n",
       "      <td>84900</td>\n",
       "      <td>0</td>\n",
       "      <td>3431</td>\n",
       "      <td>356</td>\n",
       "      <td>MOBEXRGVAC6TJT4F</td>\n",
       "      <td>4.6</td>\n",
       "      <td>2 GB</td>\n",
       "      <td>iPhone 8</td>\n",
       "    </tr>\n",
       "    <tr>\n",
       "      <th>2</th>\n",
       "      <td>APPLE iPhone 8 Plus (Silver, 256 GB)</td>\n",
       "      <td>https://www.flipkart.com/apple-iphone-8-plus-s...</td>\n",
       "      <td>Apple</td>\n",
       "      <td>84900</td>\n",
       "      <td>84900</td>\n",
       "      <td>0</td>\n",
       "      <td>3431</td>\n",
       "      <td>356</td>\n",
       "      <td>MOBEXRGVGETABXWZ</td>\n",
       "      <td>4.6</td>\n",
       "      <td>2 GB</td>\n",
       "      <td>iPhone 8</td>\n",
       "    </tr>\n",
       "    <tr>\n",
       "      <th>3</th>\n",
       "      <td>APPLE iPhone 8 (Silver, 256 GB)</td>\n",
       "      <td>https://www.flipkart.com/apple-iphone-8-silver...</td>\n",
       "      <td>Apple</td>\n",
       "      <td>77000</td>\n",
       "      <td>77000</td>\n",
       "      <td>0</td>\n",
       "      <td>11202</td>\n",
       "      <td>794</td>\n",
       "      <td>MOBEXRGVMZWUHCBA</td>\n",
       "      <td>4.5</td>\n",
       "      <td>2 GB</td>\n",
       "      <td>iPhone 8</td>\n",
       "    </tr>\n",
       "    <tr>\n",
       "      <th>4</th>\n",
       "      <td>APPLE iPhone 8 (Gold, 256 GB)</td>\n",
       "      <td>https://www.flipkart.com/apple-iphone-8-gold-2...</td>\n",
       "      <td>Apple</td>\n",
       "      <td>77000</td>\n",
       "      <td>77000</td>\n",
       "      <td>0</td>\n",
       "      <td>11202</td>\n",
       "      <td>794</td>\n",
       "      <td>MOBEXRGVPK7PFEJZ</td>\n",
       "      <td>4.5</td>\n",
       "      <td>2 GB</td>\n",
       "      <td>iPhone 8</td>\n",
       "    </tr>\n",
       "  </tbody>\n",
       "</table>\n",
       "</div>"
      ],
      "text/plain": [
       "                               Product Name  \\\n",
       "0         APPLE iPhone 8 Plus (Gold, 64 GB)   \n",
       "1  APPLE iPhone 8 Plus (Space Grey, 256 GB)   \n",
       "2      APPLE iPhone 8 Plus (Silver, 256 GB)   \n",
       "3           APPLE iPhone 8 (Silver, 256 GB)   \n",
       "4             APPLE iPhone 8 (Gold, 256 GB)   \n",
       "\n",
       "                                         Product URL  Brand  Sale Price  \\\n",
       "0  https://www.flipkart.com/apple-iphone-8-plus-g...  Apple       49900   \n",
       "1  https://www.flipkart.com/apple-iphone-8-plus-s...  Apple       84900   \n",
       "2  https://www.flipkart.com/apple-iphone-8-plus-s...  Apple       84900   \n",
       "3  https://www.flipkart.com/apple-iphone-8-silver...  Apple       77000   \n",
       "4  https://www.flipkart.com/apple-iphone-8-gold-2...  Apple       77000   \n",
       "\n",
       "     Mrp  Discount Percentage  Number Of Ratings  Number Of Reviews  \\\n",
       "0  49900                    0               3431                356   \n",
       "1  84900                    0               3431                356   \n",
       "2  84900                    0               3431                356   \n",
       "3  77000                    0              11202                794   \n",
       "4  77000                    0              11202                794   \n",
       "\n",
       "                Upc  Star Rating   Ram model name  \n",
       "0  MOBEXRGV7EHHTGUH          4.6  2 GB   iPhone 8  \n",
       "1  MOBEXRGVAC6TJT4F          4.6  2 GB   iPhone 8  \n",
       "2  MOBEXRGVGETABXWZ          4.6  2 GB   iPhone 8  \n",
       "3  MOBEXRGVMZWUHCBA          4.5  2 GB   iPhone 8  \n",
       "4  MOBEXRGVPK7PFEJZ          4.5  2 GB   iPhone 8  "
      ]
     },
     "execution_count": 24,
     "metadata": {},
     "output_type": "execute_result"
    }
   ],
   "source": [
    "df.head()"
   ]
  },
  {
   "cell_type": "markdown",
   "metadata": {},
   "source": [
    "## OOPS concept"
   ]
  },
  {
   "cell_type": "code",
   "execution_count": null,
   "metadata": {},
   "outputs": [
    {
     "name": "stdout",
     "output_type": "stream",
     "text": [
      "<class '__main__.sample'>\n"
     ]
    }
   ],
   "source": [
    "# Object everything inside the python is  Object\n",
    "# User define objects are created using class keyword. class is the blueprint that defines a nature of future object.\n",
    "# an instance is a specific object created.\n",
    "\n",
    "\n",
    "\n",
    "# creating an object using class sample\n",
    "\n",
    "class sample():\n",
    "    pass\n",
    "\n",
    "# creating the instance of the object\n",
    "\n",
    "x = sample()\n",
    "\n",
    "print(type(x))\n",
    "\n"
   ]
  },
  {
   "cell_type": "raw",
   "metadata": {
    "vscode": {
     "languageId": "raw"
    }
   },
   "source": [
    "# attribite id the characteristic of object   like name , bread of the class dog\n",
    "# method is an operation we perform with the object.\n",
    "\n",
    "#syntax for attribute\n",
    "\n",
    "self.attribute = something\n",
    "\n",
    "# to initialize the attribute of the object we use special method called \n",
    "\n",
    "__init__()\n"
   ]
  },
  {
   "cell_type": "code",
   "execution_count": null,
   "metadata": {},
   "outputs": [
    {
     "data": {
      "text/plain": [
       "'Lab'"
      ]
     },
     "execution_count": 3,
     "metadata": {},
     "output_type": "execute_result"
    }
   ],
   "source": [
    "#creating an dog class, creating an attribute and mehtod\n",
    "\n",
    "class Dog(object):\n",
    "    def __init__(self, breed):\n",
    "        self.breed = breed\n",
    "\n",
    "sam = Dog(breed = 'Lab')\n",
    "frank = Dog(breed = 'husky')\n",
    "\n",
    "sam.breed"
   ]
  },
  {
   "cell_type": "raw",
   "metadata": {
    "vscode": {
     "languageId": "raw"
    }
   },
   "source": [
    "class Circle(object):\n",
    "    pi =3.14\n",
    "\n",
    "\n",
    "    # circle get instantiated with a radius (default is 1)\n",
    "    def __init__(self, radius=1):\n",
    "        self.radius = radius\n",
    "\n",
    "    # area method calculates the area. note the use of self\n",
    "    def area(self):\n",
    "        return self.radius*self.radius*Circle.pi\n",
    "    \n",
    "    # method for resetting radius\n",
    "    def setRadius(self, radius):\n",
    "        self.radius = radius\n",
    "\n",
    "    #method for getting radius(same as callin .radius)\n",
    "\n",
    "    def getRadius(self):\n",
    "        return self.radius"
   ]
  },
  {
   "cell_type": "code",
   "execution_count": 1,
   "metadata": {},
   "outputs": [],
   "source": [
    "# creating a class of circle where we can create an object using some attribute and method of this class\n",
    "\n",
    "class circle(object):\n",
    "    pi = 3.14\n",
    "    def __init__(self, radius = 1):  #setting the radius as 1 by default\n",
    "        self.radius = radius\n",
    "\n",
    "    # creating an method to get the area of the circle\n",
    "    def area(self):\n",
    "        return self.radius*self.radius*circle.pi\n",
    "    \n",
    "    def setRadius(self, radius):\n",
    "        self.radius = radius\n",
    "\n",
    "    #method for getting radius\n",
    "\n",
    "    def getRadius(self):\n",
    "        return self.radius\n",
    "\n"
   ]
  },
  {
   "cell_type": "code",
   "execution_count": 3,
   "metadata": {},
   "outputs": [
    {
     "name": "stdout",
     "output_type": "stream",
     "text": [
      "<__main__.circle object at 0x00000262042A47A0>\n"
     ]
    }
   ],
   "source": [
    "c= circle()\n",
    "print(c)"
   ]
  },
  {
   "cell_type": "code",
   "execution_count": 4,
   "metadata": {},
   "outputs": [
    {
     "data": {
      "text/plain": [
       "3.14"
      ]
     },
     "execution_count": 4,
     "metadata": {},
     "output_type": "execute_result"
    }
   ],
   "source": [
    "c.pi"
   ]
  },
  {
   "cell_type": "code",
   "execution_count": 5,
   "metadata": {},
   "outputs": [
    {
     "data": {
      "text/plain": [
       "1"
      ]
     },
     "execution_count": 5,
     "metadata": {},
     "output_type": "execute_result"
    }
   ],
   "source": [
    "c.radius"
   ]
  },
  {
   "cell_type": "code",
   "execution_count": 9,
   "metadata": {},
   "outputs": [
    {
     "name": "stdout",
     "output_type": "stream",
     "text": [
      "3.14\n",
      "2\n",
      "area: 12.56\n",
      "radius 2\n"
     ]
    }
   ],
   "source": [
    "c = circle(radius =2)\n",
    "print(c.pi)\n",
    "print(c.radius)\n",
    "\n",
    "print(\"area:\", c.area())\n",
    "print(\"radius\", c.getRadius())"
   ]
  },
  {
   "cell_type": "markdown",
   "metadata": {},
   "source": [
    "## Instance vs class vs static Methods"
   ]
  },
  {
   "cell_type": "code",
   "execution_count": 3,
   "metadata": {},
   "outputs": [
    {
     "name": "stdout",
     "output_type": "stream",
     "text": [
      "instance method called <__main__.MyClass object at 0x000002222417CB30>\n",
      "class method called <class '__main__.MyClass'>\n",
      "static method called\n"
     ]
    }
   ],
   "source": [
    "# instance method have access to the instancen of the class\n",
    "#class method have access to the class but not instances.\n",
    "# static methds have no access to either instance or classes . they are more like plain function.\n",
    "\n",
    "class MyClass:\n",
    "    def instance_method(self):\n",
    "        print(\"instance method called\", self)\n",
    "\n",
    "    @classmethod\n",
    "    def class_method(cls):\n",
    "        print('class method called', cls)\n",
    "\n",
    "    @staticmethod\n",
    "    def static_method():\n",
    "    \n",
    "        print('static method called')\n",
    "\n",
    "obj = MyClass()\n",
    "obj.instance_method()\n",
    "MyClass.class_method()\n",
    "MyClass.static_method()"
   ]
  },
  {
   "cell_type": "code",
   "execution_count": 13,
   "metadata": {},
   "outputs": [],
   "source": [
    "# create an example of class student with instance, class, static methos\n",
    "\n",
    "\n",
    "class Student:\n",
    "    school_name = \"ABC School\"\n",
    "\n",
    "    #contructor\n",
    "    def __init__(self, name, age):\n",
    "        self.name = name\n",
    "        self.age = age\n",
    "\n",
    "    #instance method\n",
    "\n",
    "    def show(self):\n",
    "        print(self.name, self.age, Student.school_name)\n",
    "\n",
    "    @classmethod   # classmethod can only access arrtibute from class\n",
    "    def change_school(cls, name):\n",
    "        cls.school_name = name\n",
    "\n",
    "    @staticmethod\n",
    "    def find_notes(subject_name):\n",
    "        return ['chapter 1', 'chapter 2', 'chapter 3']\n"
   ]
  },
  {
   "cell_type": "code",
   "execution_count": 14,
   "metadata": {},
   "outputs": [
    {
     "data": {
      "text/plain": [
       "'ABC School'"
      ]
     },
     "execution_count": 14,
     "metadata": {},
     "output_type": "execute_result"
    }
   ],
   "source": [
    "Student.school_name"
   ]
  },
  {
   "cell_type": "code",
   "execution_count": 17,
   "metadata": {},
   "outputs": [
    {
     "name": "stdout",
     "output_type": "stream",
     "text": [
      "<__main__.Student object at 0x0000022224088770>\n"
     ]
    }
   ],
   "source": [
    "stud1 = Student(\"rakhi\", 19)\n",
    "print(stud1)"
   ]
  },
  {
   "cell_type": "code",
   "execution_count": 18,
   "metadata": {},
   "outputs": [
    {
     "data": {
      "text/plain": [
       "'rakhi'"
      ]
     },
     "execution_count": 18,
     "metadata": {},
     "output_type": "execute_result"
    }
   ],
   "source": [
    "stud1.name"
   ]
  },
  {
   "cell_type": "code",
   "execution_count": 19,
   "metadata": {},
   "outputs": [
    {
     "data": {
      "text/plain": [
       "19"
      ]
     },
     "execution_count": 19,
     "metadata": {},
     "output_type": "execute_result"
    }
   ],
   "source": [
    "stud1.age"
   ]
  },
  {
   "cell_type": "code",
   "execution_count": 20,
   "metadata": {},
   "outputs": [
    {
     "data": {
      "text/plain": [
       "'ABC School'"
      ]
     },
     "execution_count": 20,
     "metadata": {},
     "output_type": "execute_result"
    }
   ],
   "source": [
    "stud1.school_name"
   ]
  },
  {
   "cell_type": "code",
   "execution_count": 21,
   "metadata": {},
   "outputs": [],
   "source": [
    "Student.change_school('XYZ SCHOOL')"
   ]
  },
  {
   "cell_type": "code",
   "execution_count": 22,
   "metadata": {},
   "outputs": [
    {
     "data": {
      "text/plain": [
       "'XYZ SCHOOL'"
      ]
     },
     "execution_count": 22,
     "metadata": {},
     "output_type": "execute_result"
    }
   ],
   "source": [
    "Student.school_name"
   ]
  },
  {
   "cell_type": "code",
   "execution_count": null,
   "metadata": {},
   "outputs": [],
   "source": []
  }
 ],
 "metadata": {
  "kernelspec": {
   "display_name": ".venv",
   "language": "python",
   "name": "python3"
  },
  "language_info": {
   "codemirror_mode": {
    "name": "ipython",
    "version": 3
   },
   "file_extension": ".py",
   "mimetype": "text/x-python",
   "name": "python",
   "nbconvert_exporter": "python",
   "pygments_lexer": "ipython3",
   "version": "3.12.1"
  }
 },
 "nbformat": 4,
 "nbformat_minor": 2
}
